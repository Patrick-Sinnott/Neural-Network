{
  "cells": [
    {
      "cell_type": "markdown",
      "metadata": {
        "id": "5W9p-Zi6VYOf"
      },
      "source": []
    },
    {
      "cell_type": "markdown",
      "metadata": {
        "id": "mKuf3vh4Yz8i"
      },
      "source": [
        "## Building the model\n",
        "\n",
        "\n",
        "\n",
        "Our model needs to take molecular structure information as input and predict the energy based on this information."
      ]
    },
    {
      "cell_type": "code",
      "execution_count": null,
      "metadata": {
        "id": "aMnodfdDMf0a",
        "colab": {
          "base_uri": "https://localhost:8080/"
        },
        "outputId": "25f3bd18-8ed0-43d8-ccd1-f8836abfe5bf"
      },
      "outputs": [
        {
          "output_type": "stream",
          "name": "stdout",
          "text": [
            "Collecting ase\n",
            "  Downloading ase-3.22.1-py3-none-any.whl (2.2 MB)\n",
            "\u001b[K     |████████████████████████████████| 2.2 MB 8.5 MB/s \n",
            "\u001b[?25hRequirement already satisfied: numpy>=1.15.0 in /usr/local/lib/python3.7/dist-packages (from ase) (1.21.6)\n",
            "Requirement already satisfied: matplotlib>=3.1.0 in /usr/local/lib/python3.7/dist-packages (from ase) (3.2.2)\n",
            "Requirement already satisfied: scipy>=1.1.0 in /usr/local/lib/python3.7/dist-packages (from ase) (1.4.1)\n",
            "Requirement already satisfied: pyparsing!=2.0.4,!=2.1.2,!=2.1.6,>=2.0.1 in /usr/local/lib/python3.7/dist-packages (from matplotlib>=3.1.0->ase) (3.0.8)\n",
            "Requirement already satisfied: cycler>=0.10 in /usr/local/lib/python3.7/dist-packages (from matplotlib>=3.1.0->ase) (0.11.0)\n",
            "Requirement already satisfied: kiwisolver>=1.0.1 in /usr/local/lib/python3.7/dist-packages (from matplotlib>=3.1.0->ase) (1.4.2)\n",
            "Requirement already satisfied: python-dateutil>=2.1 in /usr/local/lib/python3.7/dist-packages (from matplotlib>=3.1.0->ase) (2.8.2)\n",
            "Requirement already satisfied: typing-extensions in /usr/local/lib/python3.7/dist-packages (from kiwisolver>=1.0.1->matplotlib>=3.1.0->ase) (4.1.1)\n",
            "Requirement already satisfied: six>=1.5 in /usr/local/lib/python3.7/dist-packages (from python-dateutil>=2.1->matplotlib>=3.1.0->ase) (1.15.0)\n",
            "Installing collected packages: ase\n",
            "Successfully installed ase-3.22.1\n"
          ]
        }
      ],
      "source": [
        "# import necessary libraries\n",
        "!pip install ase\n",
        "from ase.io import read\n",
        "import tensorflow as tf\n",
        "from tensorflow import keras\n",
        "from tensorflow.keras import layers\n",
        "import numpy as np\n",
        "import matplotlib.pyplot as plt"
      ]
    },
    {
      "cell_type": "code",
      "source": [
        "file_path=\"/content/H2O_rotated.xyz\"\n",
        "\n",
        "ftrs=read(file_path,':')\n",
        "nsample=len(ftrs)                                                   \n",
        "natom=[ftrs[i].get_number_of_atoms() for i in range(nsample)]\n",
        "coords=np.array([ftrs[i].get_positions() for i in range(nsample)])\n",
        "all_labels=[ftrs[i].get_chemical_symbols() for i in range(nsample)]\n",
        "\n",
        "print(coords)\n",
        "\n",
        "# read the corresponding energy values\n",
        "ener=np.loadtxt(\"/content/H2O_rotated.ener\")"
      ],
      "metadata": {
        "id": "78VdV8cXVuv5",
        "colab": {
          "base_uri": "https://localhost:8080/"
        },
        "outputId": "05c5aa8d-ff25-4f36-8cc6-65c50c3b327d"
      },
      "execution_count": null,
      "outputs": [
        {
          "output_type": "stream",
          "name": "stdout",
          "text": [
            "[[[ 5.60235675  5.79886541  4.67581523]\n",
            "  [ 5.54724273  5.60928103  5.66644264]\n",
            "  [ 5.12313088  4.80146879  5.79739866]]\n",
            "\n",
            " [[ 1.59175857  1.33176143  1.83369687]\n",
            "  [ 1.21085904  1.52442989  1.06483624]\n",
            "  [ 0.73271895  0.6999796   0.72043491]]\n",
            "\n",
            " [[ 7.11503125  7.5612348   6.46322794]\n",
            "  [ 7.11158147  7.23446307  7.39583841]\n",
            "  [ 7.00580296  6.32617946  7.34159254]]\n",
            "\n",
            " ...\n",
            "\n",
            " [[10.02314832  9.20127772 10.25619487]\n",
            "  [10.18540106  9.92449149  9.67854711]\n",
            "  [ 9.53368568 10.58209647  9.83261783]]\n",
            "\n",
            " [[-1.73824062 -2.72437786 -1.81815978]\n",
            "  [-1.75859305 -1.76705274 -2.1137744 ]\n",
            "  [-2.64282209 -1.59810476 -2.08302767]]\n",
            "\n",
            " [[ 7.3046148   8.31213486  7.69501413]\n",
            "  [ 7.51002488  7.51086283  7.2619984 ]\n",
            "  [ 8.16772101  7.06663963  7.90037513]]]\n"
          ]
        },
        {
          "output_type": "stream",
          "name": "stderr",
          "text": [
            "/usr/local/lib/python3.7/dist-packages/ase/atoms.py:968: VisibleDeprecationWarning: Use get_global_number_of_atoms() instead\n",
            "  np.VisibleDeprecationWarning)\n"
          ]
        }
      ]
    },
    {
      "cell_type": "markdown",
      "metadata": {
        "id": "r9SMBqSIaEpI"
      },
      "source": [
        "For neural network, as the method is numerical, we should normalize our input and output for better accuracy.\n",
        "$$\n",
        "x_i'=\\frac{x_i - \\bar{x}}{x_{max} - x_{min}}\n",
        "$$"
      ]
    },
    {
      "cell_type": "code",
      "execution_count": null,
      "metadata": {
        "id": "iGEqup4ehkom"
      },
      "outputs": [],
      "source": [
        "seperations = np.zeros((len(coords),3))\n",
        "\n",
        "for i, x in enumerate(coords):\n",
        "  seperations[i][0] = np.linalg.norm(x[0] - x[1])\n",
        "  seperations[i][1] = np.linalg.norm(x[2]-x[1])\n",
        "  seperations[i][2] = np.linalg.norm(x[2]-x[0])\n",
        "\n",
        "#normalize inputs\n",
        "norm_seps=np.zeros((seperations.shape))\n",
        "for j in range(3):\n",
        "  norm_seps[:,j] = (seperations[:,j] - np.mean(seperations[:,j]))/(np.max(seperations[:,j]) - np.min(seperations[:,j]))\n",
        "\n",
        "#normalize outputs\n",
        "norm_E = (ener - np.mean(ener))/(np.max(ener) - np.min(ener))"
      ]
    },
    {
      "cell_type": "markdown",
      "metadata": {
        "id": "InVkyCbY8Tpj"
      },
      "source": [
        "First, we build a model with customizable parameters to make our codes short and neat. There are 2 basic ways to build a model in Keras, through the Sequential API and Functional API. Sequential models are straightforward and easy to create by building it layer by layer, but are not flexible (not allowing multiple inputs and outputs, no layer sharings, etc.) On the other hand, the Functional API is more flexible and powerful, allowing different customizations. In this tutorial, for the sake of simplicity, we will use the Sequential API and the `add()` method.\n",
        "\n",
        "You can test if the model architecture is as desired. In the table of this output, the layers are listed from input, hidden layers, and lastly, output layer. Each layer has its own output shape and the number of parameters that will be learned during the training process. The total number of parameters, trainable parameters, and non-trainable parameters are printed below the table."
      ]
    },
    {
      "cell_type": "code",
      "execution_count": null,
      "metadata": {
        "id": "onCVXpuJbKTu",
        "colab": {
          "base_uri": "https://localhost:8080/"
        },
        "outputId": "5dbd648d-a93f-4c85-ef96-cd8c69fbe9c6"
      },
      "outputs": [
        {
          "output_type": "stream",
          "name": "stdout",
          "text": [
            "Model: \"sequential_3\"\n",
            "_________________________________________________________________\n",
            " Layer (type)                Output Shape              Param #   \n",
            "=================================================================\n",
            " dense_8 (Dense)             (None, 32)                128       \n",
            "                                                                 \n",
            " dense_9 (Dense)             (None, 16)                528       \n",
            "                                                                 \n",
            " dense_10 (Dense)            (None, 8)                 136       \n",
            "                                                                 \n",
            " dense_11 (Dense)            (None, 1)                 8         \n",
            "                                                                 \n",
            "=================================================================\n",
            "Total params: 800\n",
            "Trainable params: 800\n",
            "Non-trainable params: 0\n",
            "_________________________________________________________________\n"
          ]
        }
      ],
      "source": [
        "# build and compile the model\n",
        "def build_compile_model(reg, learn_rate):\n",
        "    model = keras.Sequential()\n",
        "    #specify an input layer with the number of nodes = the number of relative distances\n",
        "    model.add(layers.Input(shape=(x.shape[1])))\n",
        "\n",
        "    #flatten the 2D input array into a 1D array, you can also do this with numpy .flatten()\n",
        "    #model.add(layers.Flatten(input_shape=(natom,3)))\n",
        "\n",
        "    #add hidden layers\n",
        "    model.add(layers.Dense(32, activation='sigmoid', kernel_regularizer=keras.regularizers.l2(reg), bias_regularizer=keras.regularizers.l2(reg)))\n",
        "    model.add(layers.Dense(16, activation='sigmoid', kernel_regularizer=keras.regularizers.l2(reg), bias_regularizer=keras.regularizers.l2(reg)))\n",
        "    model.add(layers.Dense(8, activation='sigmoid', kernel_regularizer=keras.regularizers.l2(reg), bias_regularizer=keras.regularizers.l2(reg)))\n",
        "\n",
        "    #finally, add an output layer\n",
        "    model.add(layers.Dense(1, use_bias=False,kernel_regularizer=keras.regularizers.l2(reg)))\n",
        "\n",
        "    # define the optimizer: Adam is a gradient descent algorithm \n",
        "    opt=keras.optimizers.Adam(learning_rate=learn_rate)\n",
        "\n",
        "    #compile the model\n",
        "    model.compile(loss='mse',optimizer=opt)\n",
        "\n",
        "    return model\n",
        "\n",
        "model = build_compile_model(1e-6, 0.001)\n",
        "model.summary()"
      ]
    },
    {
      "cell_type": "markdown",
      "metadata": {
        "id": "YsgEVN0fy5Ez"
      },
      "source": [
        "The model is now ready to be trained. The data set is randomly divided here into the training set (with 1250 configurations), the validation set (with 250 configurations), and the test set (with 250 configurations). The validation set will mainly be used in the later sections to optimize the hyperparameters. The test set contains configurations your model has never seen and is used to test the generalizability of the model and its RMSE."
      ]
    },
    {
      "cell_type": "code",
      "execution_count": null,
      "metadata": {
        "id": "F6rM7YwJSSJ-",
        "colab": {
          "base_uri": "https://localhost:8080/",
          "height": 279
        },
        "outputId": "9e97ff80-e065-4ddd-93f5-588d3d8a9346"
      },
      "outputs": [
        {
          "output_type": "display_data",
          "data": {
            "text/plain": [
              "<Figure size 432x288 with 1 Axes>"
            ],
            "image/png": "[encoded data removed]"
          },
          "metadata": {
            "needs_background": "light"
          }
        }
      ],
      "source": [
        "idx=np.arange(nsample)\n",
        "np.random.shuffle(idx)\n",
        "tr_coords=norm_seps[idx[:1250],:]\n",
        "tr_E=norm_E[idx[:1250]]\n",
        "va_coords=norm_seps[idx[1250:1500],:]\n",
        "va_E=norm_E[idx[1250:1500]]\n",
        "te_coords=norm_seps[idx[1500:],:]\n",
        "te_E=ener[idx[1500:]]\n",
        "\n",
        "history=model.fit(tr_coords,tr_E,epochs=500,validation_data=(va_coords,va_E),verbose=0)\n",
        "\n",
        "# plot a learning curve of loss of the training and validation set vs the number of epochs the model is trained\n",
        "plt.plot(history.history['loss'], label='loss')\n",
        "plt.plot(history.history['val_loss'], label='val_loss')\n",
        "plt.xlabel('Epochs')\n",
        "plt.ylabel('MSE')\n",
        "plt.legend()\n",
        "plt.grid(True)\n",
        "plt.show()"
      ]
    },
    {
      "cell_type": "code",
      "execution_count": null,
      "metadata": {
        "id": "_LcjVhL8M2Ag",
        "colab": {
          "base_uri": "https://localhost:8080/",
          "height": 296
        },
        "outputId": "12441498-a57e-4ca8-e6da-e8a9b6d6db9a"
      },
      "outputs": [
        {
          "output_type": "stream",
          "name": "stdout",
          "text": [
            "The model's RMSE is:  0.004869937931713722\n"
          ]
        },
        {
          "output_type": "display_data",
          "data": {
            "text/plain": [
              "<Figure size 432x288 with 1 Axes>"
            ],
            "image/png": "[encoded data removed]"
          },
          "metadata": {
            "needs_background": "light"
          }
        }
      ],
      "source": [
        "norm_predict=model.predict(te_coords)\n",
        "predict=norm_predict*(np.max(ener) - np.min(ener))+np.mean(ener)\n",
        "rmse = np.sqrt(np.mean((predict-te_E)**2))\n",
        "\n",
        "print(\"The model's RMSE is: \", rmse)\n",
        "#visualize the model's prediction vs the correct value\n",
        "plt.axes(aspect='equal')\n",
        "plt.scatter(te_E, predict)\n",
        "plt.xlabel('Reference Values (Hartree)')\n",
        "plt.ylabel('Predictions (Hartree)')\n",
        "plt.plot([np.min([np.min(te_E),np.min(predict)]),np.max([np.max(te_E),np.max(predict)])], [np.min([np.min(te_E),np.min(predict)]),np.max([np.max(te_E),np.max(predict)])], 'r-')\n",
        "plt.show()"
      ]
    },
    {
      "cell_type": "markdown",
      "metadata": {
        "id": "ZbbOal8Tc9Ky"
      },
      "source": [
        "## Effects of hyperparameters\n",
        "\n",
        "Hyperparameters usually affect the performance of your model significantly. Therefore, it is important to optimize them. Two hyperparameters are optimized in the following sections but (of course) there are many more that can be explored. You are encouraged to play with the values of the hyperparameters.\n",
        "\n",
        "1. Regularization"
      ]
    },
    {
      "cell_type": "code",
      "execution_count": null,
      "metadata": {
        "id": "exq8SdHadc1x",
        "colab": {
          "base_uri": "https://localhost:8080/",
          "height": 283
        },
        "outputId": "ff0dc79a-eba0-473f-f63b-9c8a79f1ac3c"
      },
      "outputs": [
        {
          "output_type": "display_data",
          "data": {
            "text/plain": [
              "<Figure size 432x288 with 1 Axes>"
            ],
            "image/png": "[encoded data removed]"
          },
          "metadata": {
            "needs_background": "light"
          }
        }
      ],
      "source": [
        "regularization=[1,0.1,0.01,0.001,1e-4,1e-5,1e-6,1e-7,1e-8,1e-9]\n",
        "va_loss=[]\n",
        "for r in range(len(regularization)):\n",
        "  model = build_compile_model( regularization[r], 0.001)\n",
        "  history = model.fit(tr_coords,tr_E,epochs=500,validation_data=(va_coords,va_E),verbose=0)\n",
        "  va_predict=model.predict(va_coords)\n",
        "  # get the RMSE of the model prediction for the validation set\n",
        "  va_loss.append(np.sqrt(np.mean((va_predict-va_E)**2)))\n",
        "\n",
        "#visualize the effects of different regularization values on the model's accuracy\n",
        "plt.plot(regularization, va_loss, marker='o')\n",
        "plt.yscale(\"log\")\n",
        "plt.xscale(\"log\")\n",
        "plt.xlabel('Regularization value')\n",
        "plt.ylabel('Validation loss')\n",
        "plt.show()\n",
        "\n",
        "# get the regularization value corresponding to the smallest validation error\n",
        "for i in range(len(va_loss)):\n",
        "    if va_loss[i]==min(va_loss):\n",
        "        reg=regularization[i]\n"
      ]
    },
    {
      "cell_type": "markdown",
      "metadata": {
        "id": "e1FaaFn2ddia"
      },
      "source": [
        "2. Learning rate"
      ]
    },
    {
      "cell_type": "code",
      "execution_count": null,
      "metadata": {
        "id": "7ha07dMgdf3c",
        "colab": {
          "base_uri": "https://localhost:8080/",
          "height": 283
        },
        "outputId": "bfb3dcbc-8227-403b-e654-90b98f920c6b"
      },
      "outputs": [
        {
          "output_type": "display_data",
          "data": {
            "text/plain": [
              "<Figure size 432x288 with 1 Axes>"
            ],
            "image/png": "[encoded data removed]"
          },
          "metadata": {
            "needs_background": "light"
          }
        }
      ],
      "source": [
        "learning_rate=[1,0.1,0.01,0.001,0.0001,1e-5]\n",
        "va_loss=[]\n",
        "for lr in range(len(learning_rate)):\n",
        "  model = build_compile_model(3, reg, learning_rate[lr])\n",
        "  history = model.fit(tr_coords,tr_E,epochs=500,validation_data=(va_coords,va_E),verbose=0)\n",
        "  va_predict=model.predict(va_coords)\n",
        "  # get the RMSE of the model prediction for the validation set\n",
        "  va_loss.append(np.sqrt(np.mean((va_predict-va_E)**2)))\n",
        "\n",
        "#visualize the effects of different learning rate values on the model's accuracy\n",
        "plt.plot(learning_rate, va_loss, marker='o')\n",
        "plt.yscale(\"log\")\n",
        "plt.xscale(\"log\")\n",
        "plt.xlabel('Learning rate value')\n",
        "plt.ylabel('Validation loss')\n",
        "plt.show()\n",
        "\n",
        "# get the learning rate value corresponding to the smallest validation error\n",
        "for i in range(len(va_loss)):\n",
        "    if va_loss[i]==min(va_loss):\n",
        "        learn_rate=learning_rate[i]"
      ]
    },
    {
      "cell_type": "markdown",
      "metadata": {
        "id": "-sA4wflhdjMu"
      },
      "source": [
        "## Learning curve"
      ]
    },
    {
      "cell_type": "markdown",
      "metadata": {
        "id": "bdZSaq8MH8bs"
      },
      "source": [
        "It would be interesting to show how the model would behave if trained on a smaller or larger data set. It is a way to tell if you need to gather more data to improve the model's accuracy or if it's saturated."
      ]
    },
    {
      "cell_type": "code",
      "execution_count": null,
      "metadata": {
        "id": "yXj5eHpqdl-6"
      },
      "outputs": [],
      "source": [
        "training_points=[1500,1250,1000,750,500,250,100,50]\n",
        "te_rmse=[]\n",
        "for p in range(len(training_points)):\n",
        "  ntrain=training_points[p]\n",
        "  tr_coords=norm_coords[idx[:ntrain],:]\n",
        "  tr_E=norm_E[idx[:ntrain]]\n",
        "\n",
        "  model.fit(tr_coords,tr_E,epochs=1000,validation_data=(va_coords,va_E),verbose=0)\n",
        "\n",
        "  norm_predict=model.predict(te_coords)\n",
        "  predict=norm_predict*(np.max(ener) - np.min(ener))+np.mean(ener)\n",
        "  te_rmse.append(np.sqrt(np.mean((predict-te_E)**2)))\n",
        "\n",
        "plt.plot(training_points, te_rmse, marker='o')\n",
        "plt.xlabel('Training points')\n",
        "plt.ylabel('Model RMSE (Hartree)')\n",
        "plt.show()"
      ]
    }
  ],
  "metadata": {
    "colab": {
      "collapsed_sections": [],
      "provenance": []
    },
    "kernelspec": {
      "display_name": "Python 3",
      "name": "python3"
    },
    "language_info": {
      "name": "python"
    }
  },
  "nbformat": 4,
  "nbformat_minor": 0
}